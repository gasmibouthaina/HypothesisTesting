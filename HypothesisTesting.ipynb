{
  "nbformat": 4,
  "nbformat_minor": 0,
  "metadata": {
    "colab": {
      "name": "HypothesisTesting.ipynb",
      "private_outputs": true,
      "provenance": [],
      "authorship_tag": "ABX9TyMesdIznZyts9mCdvC7mD6m",
      "include_colab_link": true
    },
    "kernelspec": {
      "name": "python3",
      "display_name": "Python 3"
    },
    "language_info": {
      "name": "python"
    }
  },
  "cells": [
    {
      "cell_type": "markdown",
      "metadata": {
        "id": "view-in-github",
        "colab_type": "text"
      },
      "source": [
        "<a href=\"https://colab.research.google.com/github/gasmibouthaina/HypothesisTesting/blob/main/HypothesisTesting.ipynb\" target=\"_parent\"><img src=\"https://colab.research.google.com/assets/colab-badge.svg\" alt=\"Open In Colab\"/></a>"
      ]
    },
    {
      "cell_type": "code",
      "execution_count": null,
      "metadata": {
        "id": "i2YKEdlDrMqN"
      },
      "outputs": [],
      "source": [
        "import pandas as pd\n",
        "import numpy as np\n",
        "import matplotlib.pyplot as plt\n",
        "import matplotlib.pyplot as plt\n",
        "%matplotlib inline\n",
        "import seaborn as sns\n",
        "\n",
        "import scipy.stats as stats \n",
        "from scipy.stats import chi2_contingency\n",
        "\n",
        "from statsmodels.formula.api import ols\n",
        "from statsmodels.stats.anova import anova_lm "
      ]
    },
    {
      "cell_type": "markdown",
      "source": [
        "#Reading and understanding our data"
      ],
      "metadata": {
        "id": "B3pNHq4Prmma"
      }
    },
    {
      "cell_type": "code",
      "source": [
        "data = pd.read_csv(\"https://cf-courses-data.s3.us.cloud-object-storage.appdomain.cloud/IBM-ML0232EN-SkillsNetwork/asset/insurance.csv\")\n",
        "data.head()"
      ],
      "metadata": {
        "id": "cST6i7cFroQ8"
      },
      "execution_count": null,
      "outputs": []
    },
    {
      "cell_type": "code",
      "source": [
        "data.info()"
      ],
      "metadata": {
        "id": "9dh0_SonsCe1"
      },
      "execution_count": null,
      "outputs": []
    },
    {
      "cell_type": "code",
      "source": [
        "data.describe()"
      ],
      "metadata": {
        "id": "RTK5tJYqsLOR"
      },
      "execution_count": null,
      "outputs": []
    },
    {
      "cell_type": "markdown",
      "source": [
        "## **Steps in Hypothesis Testing**\n"
      ],
      "metadata": {
        "id": "k4l-gUKUsWQ6"
      }
    },
    {
      "cell_type": "code",
      "source": [
        "# get all observations for females and males by using the loc() function\n",
        "female=data.loc[data.sex==\"female\"]\n",
        "male=data.loc[data.sex==\"male\"]"
      ],
      "metadata": {
        "id": "5v55vGm-sYXb"
      },
      "execution_count": null,
      "outputs": []
    },
    {
      "cell_type": "code",
      "source": [
        "# select the bmi values for females and males*\n",
        "f_bmi = female.bmi\n",
        "m_bmi = male.bmi"
      ],
      "metadata": {
        "id": "Z8D6FvYRstb-"
      },
      "execution_count": null,
      "outputs": []
    },
    {
      "cell_type": "code",
      "source": [
        "sns.distplot(f_bmi,color='green',hist=False)\n",
        "sns.distplot(m_bmi,color='red',hist=False)"
      ],
      "metadata": {
        "id": "4JbE0SWXtVxB"
      },
      "execution_count": null,
      "outputs": []
    },
    {
      "cell_type": "code",
      "source": [
        "female.bmi.mean()"
      ],
      "metadata": {
        "id": "1hUBXKNpuQzl"
      },
      "execution_count": null,
      "outputs": []
    },
    {
      "cell_type": "code",
      "source": [
        "male.bmi.mean()"
      ],
      "metadata": {
        "id": "rXiLhjMbulUC"
      },
      "execution_count": null,
      "outputs": []
    },
    {
      "cell_type": "code",
      "source": [
        "# obtain our statistics, t-value and p-value. We will use scipy.stats library and ttest_ind() function to calculate these parameters\n",
        "alpha = 0.5\n",
        "t_value, p_value = stats.ttest_ind(f_bmi, m_bmi)\n",
        "print(\"t_value = \", t_value, \"p_value = \", p_value)"
      ],
      "metadata": {
        "id": "dl1POnx5uqK8"
      },
      "execution_count": null,
      "outputs": []
    },
    {
      "cell_type": "code",
      "source": [
        "if t_value < alpha:\n",
        "  print(\"Conclusion: since p_value {} is less than alpha {}\".format (p_value, alpha))\n",
        "  print(\"Reject the null hypothesis that there is no difference between bmi of females and bmi of males.\")\n",
        "else:\n",
        "  print(\"Conclusion: since t_value {} is less than alpha {}\".format (t_value, alpha))\n",
        "  print(\"Fail to reject the null hypothesis that there is a difference between bmi of females and bmi of males.\")\n",
        "\n",
        "\n"
      ],
      "metadata": {
        "id": "upy06sDWvfht"
      },
      "execution_count": null,
      "outputs": []
    },
    {
      "cell_type": "code",
      "source": [
        "female_children = female.loc[female['children']<=2]\n"
      ],
      "metadata": {
        "id": "h4JUIVDNwybL"
      },
      "execution_count": null,
      "outputs": []
    },
    {
      "cell_type": "code",
      "source": [
        "female_children.groupby([female_children.children]).mean().bmi"
      ],
      "metadata": {
        "id": "Xg92rVp_xb2Z"
      },
      "execution_count": null,
      "outputs": []
    },
    {
      "cell_type": "code",
      "source": [
        "sns.boxplot(x=\"children\", y=\"bmi\", data=female_children) \n",
        "plt.grid() \n",
        "plt.show()\n",
        "\n"
      ],
      "metadata": {
        "id": "qUd2VtDPxhNh"
      },
      "execution_count": null,
      "outputs": []
    },
    {
      "cell_type": "markdown",
      "source": [
        "### will construct the ANOVA table and check for each groups count (0,1,2 children) against the bmi values. We will use the ols (ordinary least squares) model for estimation of the unknown parameters"
      ],
      "metadata": {
        "id": "UwqmB0DZyJ0v"
      }
    },
    {
      "cell_type": "code",
      "source": [
        "formula = 'bmi ~ C(children)'\n",
        "model = ols(formula, female_children).fit()\n",
        "aov_table = anova_lm(model)\n",
        "aov_table"
      ],
      "metadata": {
        "id": "grUi2u_-x6OI"
      },
      "execution_count": null,
      "outputs": []
    },
    {
      "cell_type": "markdown",
      "source": [
        "determine if the proportion of smokers is significantly different across the different regions"
      ],
      "metadata": {
        "id": "2QywSJG_ymKF"
      }
    },
    {
      "cell_type": "code",
      "source": [
        "contingency= pd.crosstab(data.region, data.smoker)\n",
        "contingency"
      ],
      "metadata": {
        "id": "xaSrKHRAynh5"
      },
      "execution_count": null,
      "outputs": []
    },
    {
      "cell_type": "code",
      "source": [
        " contingency.plot(kind='bar')"
      ],
      "metadata": {
        "id": "pewj5G-syxAZ"
      },
      "execution_count": null,
      "outputs": []
    },
    {
      "cell_type": "code",
      "source": [
        "chi2, p_val, dof, exp_freq = chi2_contingency(contingency, correction = False)\n",
        "print('chi-square statistic: {} , p_value: {} , degree of freedom: {} ,expected frequencies: {} '.format(chi2, p_val, dof, exp_freq))"
      ],
      "metadata": {
        "id": "--amMNTNy00l"
      },
      "execution_count": null,
      "outputs": []
    },
    {
      "cell_type": "code",
      "source": [
        "if (p_val < 0.05):\n",
        "   print('Reject the null hypothesis, that the smokers proportions are not significantly different across the different regions')\n",
        "else:\n",
        "   print('Accept the null hypothesis, that the smokers proportions are not significantly different across the different regions')"
      ],
      "metadata": {
        "id": "LB4qAmfczL5q"
      },
      "execution_count": null,
      "outputs": []
    },
    {
      "cell_type": "code",
      "source": [
        ""
      ],
      "metadata": {
        "id": "U9HNp9BmzUyD"
      },
      "execution_count": null,
      "outputs": []
    }
  ]
}